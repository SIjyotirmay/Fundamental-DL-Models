{
  "nbformat": 4,
  "nbformat_minor": 0,
  "metadata": {
    "colab": {
      "provenance": [],
      "gpuType": "T4"
    },
    "kernelspec": {
      "name": "python3",
      "display_name": "Python 3"
    },
    "language_info": {
      "name": "python"
    },
    "accelerator": "GPU"
  },
  "cells": [
    {
      "cell_type": "code",
      "execution_count": null,
      "metadata": {
        "id": "4iEPCpkPOvNX"
      },
      "outputs": [],
      "source": []
    },
    {
      "cell_type": "code",
      "execution_count": 1,
      "metadata": {
        "colab": {
          "base_uri": "https://localhost:8080/"
        },
        "id": "jzFClK3exr0_",
        "outputId": "ee21c3d7-32ae-4022-89ac-38f9966a30d8"
      },
      "outputs": [
        {
          "output_type": "stream",
          "name": "stdout",
          "text": [
            "----------------------------------------------------------------\n",
            "        Layer (type)               Output Shape         Param #\n",
            "================================================================\n",
            "            Conv2d-1         [-1, 32, 112, 112]             864\n",
            "       BatchNorm2d-2         [-1, 32, 112, 112]              64\n",
            "             Swish-3         [-1, 32, 112, 112]               0\n",
            "          Identity-4         [-1, 32, 112, 112]               0\n",
            "            Conv2d-5         [-1, 32, 112, 112]             288\n",
            "       BatchNorm2d-6         [-1, 32, 112, 112]              64\n",
            "             Swish-7         [-1, 32, 112, 112]               0\n",
            " AdaptiveAvgPool2d-8             [-1, 32, 1, 1]               0\n",
            "            Conv2d-9              [-1, 8, 1, 1]             264\n",
            "            Swish-10              [-1, 8, 1, 1]               0\n",
            "           Conv2d-11             [-1, 32, 1, 1]             288\n",
            "          Sigmoid-12             [-1, 32, 1, 1]               0\n",
            "SqueezeExcitation-13         [-1, 32, 112, 112]               0\n",
            "           Conv2d-14         [-1, 16, 112, 112]             512\n",
            "      BatchNorm2d-15         [-1, 16, 112, 112]              32\n",
            "      MBConvBlock-16         [-1, 16, 112, 112]               0\n",
            "           Conv2d-17         [-1, 96, 112, 112]           1,536\n",
            "      BatchNorm2d-18         [-1, 96, 112, 112]             192\n",
            "            Swish-19         [-1, 96, 112, 112]               0\n",
            "           Conv2d-20           [-1, 96, 56, 56]             864\n",
            "      BatchNorm2d-21           [-1, 96, 56, 56]             192\n",
            "            Swish-22           [-1, 96, 56, 56]               0\n",
            "AdaptiveAvgPool2d-23             [-1, 96, 1, 1]               0\n",
            "           Conv2d-24              [-1, 4, 1, 1]             388\n",
            "            Swish-25              [-1, 4, 1, 1]               0\n",
            "           Conv2d-26             [-1, 96, 1, 1]             480\n",
            "          Sigmoid-27             [-1, 96, 1, 1]               0\n",
            "SqueezeExcitation-28           [-1, 96, 56, 56]               0\n",
            "           Conv2d-29           [-1, 24, 56, 56]           2,304\n",
            "      BatchNorm2d-30           [-1, 24, 56, 56]              48\n",
            "      MBConvBlock-31           [-1, 24, 56, 56]               0\n",
            "           Conv2d-32          [-1, 144, 56, 56]           3,456\n",
            "      BatchNorm2d-33          [-1, 144, 56, 56]             288\n",
            "            Swish-34          [-1, 144, 56, 56]               0\n",
            "           Conv2d-35          [-1, 144, 56, 56]           1,296\n",
            "      BatchNorm2d-36          [-1, 144, 56, 56]             288\n",
            "            Swish-37          [-1, 144, 56, 56]               0\n",
            "AdaptiveAvgPool2d-38            [-1, 144, 1, 1]               0\n",
            "           Conv2d-39              [-1, 6, 1, 1]             870\n",
            "            Swish-40              [-1, 6, 1, 1]               0\n",
            "           Conv2d-41            [-1, 144, 1, 1]           1,008\n",
            "          Sigmoid-42            [-1, 144, 1, 1]               0\n",
            "SqueezeExcitation-43          [-1, 144, 56, 56]               0\n",
            "           Conv2d-44           [-1, 24, 56, 56]           3,456\n",
            "      BatchNorm2d-45           [-1, 24, 56, 56]              48\n",
            "      MBConvBlock-46           [-1, 24, 56, 56]               0\n",
            "           Conv2d-47          [-1, 144, 56, 56]           3,456\n",
            "      BatchNorm2d-48          [-1, 144, 56, 56]             288\n",
            "            Swish-49          [-1, 144, 56, 56]               0\n",
            "           Conv2d-50          [-1, 144, 28, 28]           3,600\n",
            "      BatchNorm2d-51          [-1, 144, 28, 28]             288\n",
            "            Swish-52          [-1, 144, 28, 28]               0\n",
            "AdaptiveAvgPool2d-53            [-1, 144, 1, 1]               0\n",
            "           Conv2d-54              [-1, 6, 1, 1]             870\n",
            "            Swish-55              [-1, 6, 1, 1]               0\n",
            "           Conv2d-56            [-1, 144, 1, 1]           1,008\n",
            "          Sigmoid-57            [-1, 144, 1, 1]               0\n",
            "SqueezeExcitation-58          [-1, 144, 28, 28]               0\n",
            "           Conv2d-59           [-1, 40, 28, 28]           5,760\n",
            "      BatchNorm2d-60           [-1, 40, 28, 28]              80\n",
            "      MBConvBlock-61           [-1, 40, 28, 28]               0\n",
            "           Conv2d-62          [-1, 240, 28, 28]           9,600\n",
            "      BatchNorm2d-63          [-1, 240, 28, 28]             480\n",
            "            Swish-64          [-1, 240, 28, 28]               0\n",
            "           Conv2d-65          [-1, 240, 28, 28]           6,000\n",
            "      BatchNorm2d-66          [-1, 240, 28, 28]             480\n",
            "            Swish-67          [-1, 240, 28, 28]               0\n",
            "AdaptiveAvgPool2d-68            [-1, 240, 1, 1]               0\n",
            "           Conv2d-69             [-1, 10, 1, 1]           2,410\n",
            "            Swish-70             [-1, 10, 1, 1]               0\n",
            "           Conv2d-71            [-1, 240, 1, 1]           2,640\n",
            "          Sigmoid-72            [-1, 240, 1, 1]               0\n",
            "SqueezeExcitation-73          [-1, 240, 28, 28]               0\n",
            "           Conv2d-74           [-1, 40, 28, 28]           9,600\n",
            "      BatchNorm2d-75           [-1, 40, 28, 28]              80\n",
            "      MBConvBlock-76           [-1, 40, 28, 28]               0\n",
            "           Conv2d-77          [-1, 240, 28, 28]           9,600\n",
            "      BatchNorm2d-78          [-1, 240, 28, 28]             480\n",
            "            Swish-79          [-1, 240, 28, 28]               0\n",
            "           Conv2d-80          [-1, 240, 14, 14]           2,160\n",
            "      BatchNorm2d-81          [-1, 240, 14, 14]             480\n",
            "            Swish-82          [-1, 240, 14, 14]               0\n",
            "AdaptiveAvgPool2d-83            [-1, 240, 1, 1]               0\n",
            "           Conv2d-84             [-1, 10, 1, 1]           2,410\n",
            "            Swish-85             [-1, 10, 1, 1]               0\n",
            "           Conv2d-86            [-1, 240, 1, 1]           2,640\n",
            "          Sigmoid-87            [-1, 240, 1, 1]               0\n",
            "SqueezeExcitation-88          [-1, 240, 14, 14]               0\n",
            "           Conv2d-89           [-1, 80, 14, 14]          19,200\n",
            "      BatchNorm2d-90           [-1, 80, 14, 14]             160\n",
            "      MBConvBlock-91           [-1, 80, 14, 14]               0\n",
            "           Conv2d-92          [-1, 480, 14, 14]          38,400\n",
            "      BatchNorm2d-93          [-1, 480, 14, 14]             960\n",
            "            Swish-94          [-1, 480, 14, 14]               0\n",
            "           Conv2d-95          [-1, 480, 14, 14]           4,320\n",
            "      BatchNorm2d-96          [-1, 480, 14, 14]             960\n",
            "            Swish-97          [-1, 480, 14, 14]               0\n",
            "AdaptiveAvgPool2d-98            [-1, 480, 1, 1]               0\n",
            "           Conv2d-99             [-1, 20, 1, 1]           9,620\n",
            "           Swish-100             [-1, 20, 1, 1]               0\n",
            "          Conv2d-101            [-1, 480, 1, 1]          10,080\n",
            "         Sigmoid-102            [-1, 480, 1, 1]               0\n",
            "SqueezeExcitation-103          [-1, 480, 14, 14]               0\n",
            "          Conv2d-104           [-1, 80, 14, 14]          38,400\n",
            "     BatchNorm2d-105           [-1, 80, 14, 14]             160\n",
            "     MBConvBlock-106           [-1, 80, 14, 14]               0\n",
            "          Conv2d-107          [-1, 480, 14, 14]          38,400\n",
            "     BatchNorm2d-108          [-1, 480, 14, 14]             960\n",
            "           Swish-109          [-1, 480, 14, 14]               0\n",
            "          Conv2d-110          [-1, 480, 14, 14]           4,320\n",
            "     BatchNorm2d-111          [-1, 480, 14, 14]             960\n",
            "           Swish-112          [-1, 480, 14, 14]               0\n",
            "AdaptiveAvgPool2d-113            [-1, 480, 1, 1]               0\n",
            "          Conv2d-114             [-1, 20, 1, 1]           9,620\n",
            "           Swish-115             [-1, 20, 1, 1]               0\n",
            "          Conv2d-116            [-1, 480, 1, 1]          10,080\n",
            "         Sigmoid-117            [-1, 480, 1, 1]               0\n",
            "SqueezeExcitation-118          [-1, 480, 14, 14]               0\n",
            "          Conv2d-119           [-1, 80, 14, 14]          38,400\n",
            "     BatchNorm2d-120           [-1, 80, 14, 14]             160\n",
            "     MBConvBlock-121           [-1, 80, 14, 14]               0\n",
            "          Conv2d-122          [-1, 480, 14, 14]          38,400\n",
            "     BatchNorm2d-123          [-1, 480, 14, 14]             960\n",
            "           Swish-124          [-1, 480, 14, 14]               0\n",
            "          Conv2d-125          [-1, 480, 14, 14]          12,000\n",
            "     BatchNorm2d-126          [-1, 480, 14, 14]             960\n",
            "           Swish-127          [-1, 480, 14, 14]               0\n",
            "AdaptiveAvgPool2d-128            [-1, 480, 1, 1]               0\n",
            "          Conv2d-129             [-1, 20, 1, 1]           9,620\n",
            "           Swish-130             [-1, 20, 1, 1]               0\n",
            "          Conv2d-131            [-1, 480, 1, 1]          10,080\n",
            "         Sigmoid-132            [-1, 480, 1, 1]               0\n",
            "SqueezeExcitation-133          [-1, 480, 14, 14]               0\n",
            "          Conv2d-134          [-1, 112, 14, 14]          53,760\n",
            "     BatchNorm2d-135          [-1, 112, 14, 14]             224\n",
            "     MBConvBlock-136          [-1, 112, 14, 14]               0\n",
            "          Conv2d-137          [-1, 672, 14, 14]          75,264\n",
            "     BatchNorm2d-138          [-1, 672, 14, 14]           1,344\n",
            "           Swish-139          [-1, 672, 14, 14]               0\n",
            "          Conv2d-140          [-1, 672, 14, 14]          16,800\n",
            "     BatchNorm2d-141          [-1, 672, 14, 14]           1,344\n",
            "           Swish-142          [-1, 672, 14, 14]               0\n",
            "AdaptiveAvgPool2d-143            [-1, 672, 1, 1]               0\n",
            "          Conv2d-144             [-1, 28, 1, 1]          18,844\n",
            "           Swish-145             [-1, 28, 1, 1]               0\n",
            "          Conv2d-146            [-1, 672, 1, 1]          19,488\n",
            "         Sigmoid-147            [-1, 672, 1, 1]               0\n",
            "SqueezeExcitation-148          [-1, 672, 14, 14]               0\n",
            "          Conv2d-149          [-1, 112, 14, 14]          75,264\n",
            "     BatchNorm2d-150          [-1, 112, 14, 14]             224\n",
            "     MBConvBlock-151          [-1, 112, 14, 14]               0\n",
            "          Conv2d-152          [-1, 672, 14, 14]          75,264\n",
            "     BatchNorm2d-153          [-1, 672, 14, 14]           1,344\n",
            "           Swish-154          [-1, 672, 14, 14]               0\n",
            "          Conv2d-155          [-1, 672, 14, 14]          16,800\n",
            "     BatchNorm2d-156          [-1, 672, 14, 14]           1,344\n",
            "           Swish-157          [-1, 672, 14, 14]               0\n",
            "AdaptiveAvgPool2d-158            [-1, 672, 1, 1]               0\n",
            "          Conv2d-159             [-1, 28, 1, 1]          18,844\n",
            "           Swish-160             [-1, 28, 1, 1]               0\n",
            "          Conv2d-161            [-1, 672, 1, 1]          19,488\n",
            "         Sigmoid-162            [-1, 672, 1, 1]               0\n",
            "SqueezeExcitation-163          [-1, 672, 14, 14]               0\n",
            "          Conv2d-164          [-1, 112, 14, 14]          75,264\n",
            "     BatchNorm2d-165          [-1, 112, 14, 14]             224\n",
            "     MBConvBlock-166          [-1, 112, 14, 14]               0\n",
            "          Conv2d-167          [-1, 672, 14, 14]          75,264\n",
            "     BatchNorm2d-168          [-1, 672, 14, 14]           1,344\n",
            "           Swish-169          [-1, 672, 14, 14]               0\n",
            "          Conv2d-170            [-1, 672, 7, 7]          16,800\n",
            "     BatchNorm2d-171            [-1, 672, 7, 7]           1,344\n",
            "           Swish-172            [-1, 672, 7, 7]               0\n",
            "AdaptiveAvgPool2d-173            [-1, 672, 1, 1]               0\n",
            "          Conv2d-174             [-1, 28, 1, 1]          18,844\n",
            "           Swish-175             [-1, 28, 1, 1]               0\n",
            "          Conv2d-176            [-1, 672, 1, 1]          19,488\n",
            "         Sigmoid-177            [-1, 672, 1, 1]               0\n",
            "SqueezeExcitation-178            [-1, 672, 7, 7]               0\n",
            "          Conv2d-179            [-1, 192, 7, 7]         129,024\n",
            "     BatchNorm2d-180            [-1, 192, 7, 7]             384\n",
            "     MBConvBlock-181            [-1, 192, 7, 7]               0\n",
            "          Conv2d-182           [-1, 1152, 7, 7]         221,184\n",
            "     BatchNorm2d-183           [-1, 1152, 7, 7]           2,304\n",
            "           Swish-184           [-1, 1152, 7, 7]               0\n",
            "          Conv2d-185           [-1, 1152, 7, 7]          28,800\n",
            "     BatchNorm2d-186           [-1, 1152, 7, 7]           2,304\n",
            "           Swish-187           [-1, 1152, 7, 7]               0\n",
            "AdaptiveAvgPool2d-188           [-1, 1152, 1, 1]               0\n",
            "          Conv2d-189             [-1, 48, 1, 1]          55,344\n",
            "           Swish-190             [-1, 48, 1, 1]               0\n",
            "          Conv2d-191           [-1, 1152, 1, 1]          56,448\n",
            "         Sigmoid-192           [-1, 1152, 1, 1]               0\n",
            "SqueezeExcitation-193           [-1, 1152, 7, 7]               0\n",
            "          Conv2d-194            [-1, 192, 7, 7]         221,184\n",
            "     BatchNorm2d-195            [-1, 192, 7, 7]             384\n",
            "     MBConvBlock-196            [-1, 192, 7, 7]               0\n",
            "          Conv2d-197           [-1, 1152, 7, 7]         221,184\n",
            "     BatchNorm2d-198           [-1, 1152, 7, 7]           2,304\n",
            "           Swish-199           [-1, 1152, 7, 7]               0\n",
            "          Conv2d-200           [-1, 1152, 7, 7]          28,800\n",
            "     BatchNorm2d-201           [-1, 1152, 7, 7]           2,304\n",
            "           Swish-202           [-1, 1152, 7, 7]               0\n",
            "AdaptiveAvgPool2d-203           [-1, 1152, 1, 1]               0\n",
            "          Conv2d-204             [-1, 48, 1, 1]          55,344\n",
            "           Swish-205             [-1, 48, 1, 1]               0\n",
            "          Conv2d-206           [-1, 1152, 1, 1]          56,448\n",
            "         Sigmoid-207           [-1, 1152, 1, 1]               0\n",
            "SqueezeExcitation-208           [-1, 1152, 7, 7]               0\n",
            "          Conv2d-209            [-1, 192, 7, 7]         221,184\n",
            "     BatchNorm2d-210            [-1, 192, 7, 7]             384\n",
            "     MBConvBlock-211            [-1, 192, 7, 7]               0\n",
            "          Conv2d-212           [-1, 1152, 7, 7]         221,184\n",
            "     BatchNorm2d-213           [-1, 1152, 7, 7]           2,304\n",
            "           Swish-214           [-1, 1152, 7, 7]               0\n",
            "          Conv2d-215           [-1, 1152, 7, 7]          28,800\n",
            "     BatchNorm2d-216           [-1, 1152, 7, 7]           2,304\n",
            "           Swish-217           [-1, 1152, 7, 7]               0\n",
            "AdaptiveAvgPool2d-218           [-1, 1152, 1, 1]               0\n",
            "          Conv2d-219             [-1, 48, 1, 1]          55,344\n",
            "           Swish-220             [-1, 48, 1, 1]               0\n",
            "          Conv2d-221           [-1, 1152, 1, 1]          56,448\n",
            "         Sigmoid-222           [-1, 1152, 1, 1]               0\n",
            "SqueezeExcitation-223           [-1, 1152, 7, 7]               0\n",
            "          Conv2d-224            [-1, 192, 7, 7]         221,184\n",
            "     BatchNorm2d-225            [-1, 192, 7, 7]             384\n",
            "     MBConvBlock-226            [-1, 192, 7, 7]               0\n",
            "          Conv2d-227           [-1, 1152, 7, 7]         221,184\n",
            "     BatchNorm2d-228           [-1, 1152, 7, 7]           2,304\n",
            "           Swish-229           [-1, 1152, 7, 7]               0\n",
            "          Conv2d-230           [-1, 1152, 7, 7]          10,368\n",
            "     BatchNorm2d-231           [-1, 1152, 7, 7]           2,304\n",
            "           Swish-232           [-1, 1152, 7, 7]               0\n",
            "AdaptiveAvgPool2d-233           [-1, 1152, 1, 1]               0\n",
            "          Conv2d-234             [-1, 48, 1, 1]          55,344\n",
            "           Swish-235             [-1, 48, 1, 1]               0\n",
            "          Conv2d-236           [-1, 1152, 1, 1]          56,448\n",
            "         Sigmoid-237           [-1, 1152, 1, 1]               0\n",
            "SqueezeExcitation-238           [-1, 1152, 7, 7]               0\n",
            "          Conv2d-239            [-1, 320, 7, 7]         368,640\n",
            "     BatchNorm2d-240            [-1, 320, 7, 7]             640\n",
            "     MBConvBlock-241            [-1, 320, 7, 7]               0\n",
            "          Conv2d-242           [-1, 1280, 7, 7]         409,600\n",
            "     BatchNorm2d-243           [-1, 1280, 7, 7]           2,560\n",
            "           Swish-244           [-1, 1280, 7, 7]               0\n",
            "AdaptiveAvgPool2d-245           [-1, 1280, 1, 1]               0\n",
            "         Dropout-246                 [-1, 1280]               0\n",
            "          Linear-247                   [-1, 10]          12,810\n",
            "================================================================\n",
            "Total params: 4,020,358\n",
            "Trainable params: 4,020,358\n",
            "Non-trainable params: 0\n",
            "----------------------------------------------------------------\n",
            "Input size (MB): 0.57\n",
            "Forward/backward pass size (MB): 175.10\n",
            "Params size (MB): 15.34\n",
            "Estimated Total Size (MB): 191.01\n",
            "----------------------------------------------------------------\n"
          ]
        }
      ],
      "source": [
        "import torch\n",
        "import torch.nn as nn\n",
        "import torch.optim as optim\n",
        "from torch.utils.data import DataLoader\n",
        "from torchvision import datasets, transforms\n",
        "from sklearn.metrics import classification_report, confusion_matrix\n",
        "import matplotlib.pyplot as plt\n",
        "from tqdm import tqdm\n",
        "import math\n",
        "\n",
        "class Swish(nn.Module):\n",
        "    def forward(self, x):\n",
        "        return x * torch.sigmoid(x)\n",
        "\n",
        "class SqueezeExcitation(nn.Module):\n",
        "    def __init__(self, in_channels, reduced_channels):\n",
        "        super(SqueezeExcitation, self).__init__()\n",
        "        self.se = nn.Sequential(\n",
        "            nn.AdaptiveAvgPool2d(1),\n",
        "            nn.Conv2d(in_channels, reduced_channels, 1),\n",
        "            Swish(),\n",
        "            nn.Conv2d(reduced_channels, in_channels, 1),\n",
        "            nn.Sigmoid()\n",
        "        )\n",
        "\n",
        "    def forward(self, x):\n",
        "        return x * self.se(x)\n",
        "\n",
        "class MBConvBlock(nn.Module):\n",
        "    def __init__(self, in_channels, out_channels, kernel_size, stride, expand_ratio, se_ratio, drop_connect_rate):\n",
        "        super(MBConvBlock, self).__init__()\n",
        "        self.drop_connect_rate = drop_connect_rate\n",
        "        self.stride = stride\n",
        "        self.in_channels = in_channels\n",
        "        self.out_channels = out_channels\n",
        "        expanded_channels = in_channels * expand_ratio\n",
        "        self.has_skip = (stride == 1 and in_channels == out_channels)\n",
        "        if expand_ratio != 1:\n",
        "            self.expand = nn.Sequential(\n",
        "                nn.Conv2d(in_channels, expanded_channels, 1, bias=False),\n",
        "                nn.BatchNorm2d(expanded_channels),\n",
        "                Swish()\n",
        "            )\n",
        "        else:\n",
        "            self.expand = nn.Identity()\n",
        "        self.depthwise = nn.Sequential(\n",
        "            nn.Conv2d(expanded_channels, expanded_channels, kernel_size, stride=stride, padding=(kernel_size-1)//2, groups=expanded_channels, bias=False),\n",
        "            nn.BatchNorm2d(expanded_channels),\n",
        "            Swish()\n",
        "        )\n",
        "        reduced_channels = max(1, int(in_channels * se_ratio))\n",
        "        self.se = SqueezeExcitation(expanded_channels, reduced_channels)\n",
        "        self.project = nn.Sequential(\n",
        "            nn.Conv2d(expanded_channels, out_channels, 1, bias=False),\n",
        "            nn.BatchNorm2d(out_channels)\n",
        "        )\n",
        "\n",
        "    def forward(self, x):\n",
        "        identity = x\n",
        "        x = self.expand(x)\n",
        "        x = self.depthwise(x)\n",
        "        x = self.se(x)\n",
        "        x = self.project(x)\n",
        "        if self.has_skip and self.training and self.drop_connect_rate > 0:\n",
        "            if torch.rand(1).item() >= self.drop_connect_rate:\n",
        "                x = x + identity\n",
        "        elif self.has_skip:\n",
        "            x = x + identity\n",
        "        return x\n",
        "\n",
        "class EfficientNetB0(nn.Module):\n",
        "    def __init__(self, num_classes=10): # Keep num_classes here as it is used for the final linear layer\n",
        "        super(EfficientNetB0, self).__init__()\n",
        "        config = [\n",
        "            (32, 16, 3, 1, 1, 1),\n",
        "            (16, 24, 3, 2, 6, 2),\n",
        "            (24, 40, 5, 2, 6, 2),\n",
        "            (40, 80, 3, 2, 6, 3),\n",
        "            (80, 112, 5, 1, 6, 3),\n",
        "            (112, 192, 5, 2, 6, 4),\n",
        "            (192, 320, 3, 1, 6, 1)\n",
        "        ]\n",
        "        se_ratio = 0.25\n",
        "        self.stem = nn.Sequential(\n",
        "            nn.Conv2d(3, 32, 3, stride=2, padding=1, bias=False),\n",
        "            nn.BatchNorm2d(32),\n",
        "            Swish()\n",
        "        )\n",
        "        layers = []\n",
        "        in_channels = 32\n",
        "        for _, out_channels, kernel_size, stride, expand_ratio, num_layers in config:\n",
        "            for i in range(num_layers):\n",
        "                current_stride = stride if i == 0 else 1\n",
        "                drop_connect_rate = 0.2\n",
        "                layers.append(MBConvBlock(in_channels, out_channels, kernel_size, current_stride, expand_ratio, se_ratio, drop_connect_rate))\n",
        "                in_channels = out_channels\n",
        "        self.blocks = nn.Sequential(*layers)\n",
        "        self.head = nn.Sequential(\n",
        "            nn.Conv2d(320, 1280, 1, bias=False),\n",
        "            nn.BatchNorm2d(1280),\n",
        "            Swish()\n",
        "        )\n",
        "        self.avg_pool = nn.AdaptiveAvgPool2d(1)\n",
        "        self.classifier = nn.Sequential(\n",
        "            nn.Dropout(0.2),\n",
        "            nn.Linear(1280, num_classes)\n",
        "        )\n",
        "        self._initialize_weights()\n",
        "\n",
        "    def _initialize_weights(self):\n",
        "        for m in self.modules():\n",
        "            if isinstance(m, nn.Conv2d):\n",
        "                nn.init.kaiming_normal_(m.weight, mode='fan_out', nonlinearity='relu')\n",
        "            elif isinstance(m, nn.BatchNorm2d):\n",
        "                nn.init.ones_(m.weight)\n",
        "                nn.init.zeros_(m.bias)\n",
        "            elif isinstance(m, nn.Linear):\n",
        "                nn.init.kaiming_normal_(m.weight, mode='fan_out', nonlinearity='relu')\n",
        "                nn.init.zeros_(m.bias)\n",
        "\n",
        "    def forward(self, x):\n",
        "        x = self.stem(x)\n",
        "        x = self.blocks(x)\n",
        "        x = self.head(x)\n",
        "        x = self.avg_pool(x)\n",
        "        x = x.view(x.size(0), -1)\n",
        "        x = self.classifier(x)\n",
        "        return x\n",
        "\n",
        "dummy_input = torch.randn(1, 3, 224, 224)\n",
        "model = EfficientNetB0() # Removed num_classes=10\n",
        "output = model(dummy_input)\n",
        "model.to('cuda')\n",
        "\n",
        "from torchsummary import summary\n",
        "summary(model, input_size=(3, 224, 224))\n",
        "\n",
        "\n"
      ]
    },
    {
      "cell_type": "code",
      "source": [],
      "metadata": {
        "id": "EbYGi_9zPWUM"
      },
      "execution_count": null,
      "outputs": []
    },
    {
      "cell_type": "code",
      "execution_count": 2,
      "metadata": {
        "colab": {
          "base_uri": "https://localhost:8080/"
        },
        "id": "0T786hgB8g6b",
        "outputId": "ea1a3741-ca7f-44b9-8d1d-0d106c9633d4"
      },
      "outputs": [
        {
          "output_type": "stream",
          "name": "stderr",
          "text": [
            "100%|██████████| 170M/170M [00:03<00:00, 43.7MB/s]\n",
            "/tmp/ipython-input-3838198850.py:31: FutureWarning: `torch.cuda.amp.GradScaler(args...)` is deprecated. Please use `torch.amp.GradScaler('cuda', args...)` instead.\n",
            "  scaler = GradScaler()\n"
          ]
        }
      ],
      "source": [
        "train_transform = transforms.Compose([\n",
        "    transforms.Resize((224, 224)),\n",
        "    transforms.RandomCrop(224, padding=4),\n",
        "    transforms.RandomRotation(15),\n",
        "    transforms.RandomHorizontalFlip(),\n",
        "    transforms.ToTensor(),\n",
        "    transforms.Normalize(mean=[0.485, 0.456, 0.406],\n",
        "                         std=[0.229, 0.224, 0.225])\n",
        "])\n",
        "\n",
        "\n",
        "test_transform = transforms.Compose([\n",
        "    transforms.Resize((224, 224)),\n",
        "    transforms.ToTensor(),\n",
        "    transforms.Normalize(mean=[0.485, 0.456, 0.406],\n",
        "                         std=[0.229, 0.224, 0.225])\n",
        "])\n",
        "\n",
        "trainset = datasets.CIFAR10(root='./data', train=True, download=True, transform=train_transform)\n",
        "testset = datasets.CIFAR10(root='./data', train=False, download=True, transform=test_transform)\n",
        "train_loader = DataLoader(trainset, batch_size=64, shuffle=True,pin_memory=True,num_workers=2)\n",
        "test_loader = DataLoader(testset, batch_size=64, shuffle=False,pin_memory=True,num_workers=2)\n",
        "\n",
        "num_epochs = 30\n",
        "device = torch.device(\"cuda\" if torch.cuda.is_available() else \"cpu\")\n",
        "criterion = nn.CrossEntropyLoss()\n",
        "#optimizer = optim.Adam(model.parameters(), lr=1e-4, weight_decay=1e-4)\n",
        "optimizer = optim.AdamW(model.parameters(), lr=1e-4, weight_decay=1e-4)\n",
        "scheduler = torch.optim.lr_scheduler.CosineAnnealingLR(optimizer, T_max=num_epochs)\n",
        "from torch.cuda.amp import GradScaler, autocast\n",
        "scaler = GradScaler()\n",
        "\n",
        "train_losses, test_accuracies = [], []"
      ]
    },
    {
      "cell_type": "code",
      "source": [],
      "metadata": {
        "id": "vt6ei8BXPhLD"
      },
      "execution_count": null,
      "outputs": []
    },
    {
      "cell_type": "code",
      "execution_count": 3,
      "metadata": {
        "colab": {
          "base_uri": "https://localhost:8080/",
          "height": 1000
        },
        "id": "wJc8Ix9o8ngV",
        "outputId": "7d875017-b01c-492d-f71b-51a1f86a3d71"
      },
      "outputs": [
        {
          "metadata": {
            "tags": null
          },
          "name": "stderr",
          "output_type": "stream",
          "text": [
            "Epoch [1] Training:   0%|          | 0/782 [00:00<?, ?it/s]/tmp/ipython-input-691726336.py:8: FutureWarning: `torch.cuda.amp.autocast(args...)` is deprecated. Please use `torch.amp.autocast('cuda', args...)` instead.\n",
            "  with autocast():\n",
            "Epoch [1] Training: 100%|██████████| 782/782 [03:05<00:00,  4.22it/s, Loss=3.8650, Acc=14.91%]"
          ]
        },
        {
          "metadata": {
            "tags": null
          },
          "name": "stdout",
          "output_type": "stream",
          "text": [
            "\n",
            "Epoch [1] | Train Loss: 3.2398 | Train Acc: 14.91%\n"
          ]
        },
        {
          "metadata": {
            "tags": null
          },
          "name": "stderr",
          "output_type": "stream",
          "text": [
            "\n",
            "Epoch [1] Testing: 100%|██████████| 157/157 [00:20<00:00,  7.65it/s, Acc=20.39%]"
          ]
        },
        {
          "metadata": {
            "tags": null
          },
          "name": "stdout",
          "output_type": "stream",
          "text": [
            "\n",
            "Test Accuracy after Epoch [1]: 20.39%\n"
          ]
        },
        {
          "metadata": {
            "tags": null
          },
          "name": "stderr",
          "output_type": "stream",
          "text": [
            "\n",
            "Epoch [2] Training: 100%|██████████| 782/782 [02:45<00:00,  4.73it/s, Loss=2.4951, Acc=24.77%]"
          ]
        },
        {
          "metadata": {
            "tags": null
          },
          "name": "stdout",
          "output_type": "stream",
          "text": [
            "\n",
            "Epoch [2] | Train Loss: 2.5964 | Train Acc: 24.77%\n"
          ]
        },
        {
          "metadata": {
            "tags": null
          },
          "name": "stderr",
          "output_type": "stream",
          "text": [
            "\n",
            "Epoch [2] Testing: 100%|██████████| 157/157 [00:20<00:00,  7.64it/s, Acc=30.88%]"
          ]
        },
        {
          "metadata": {
            "tags": null
          },
          "name": "stdout",
          "output_type": "stream",
          "text": [
            "\n",
            "Test Accuracy after Epoch [2]: 30.88%\n"
          ]
        },
        {
          "metadata": {
            "tags": null
          },
          "name": "stderr",
          "output_type": "stream",
          "text": [
            "\n",
            "Epoch [3] Training: 100%|██████████| 782/782 [02:45<00:00,  4.73it/s, Loss=2.8964, Acc=32.41%]"
          ]
        },
        {
          "metadata": {
            "tags": null
          },
          "name": "stdout",
          "output_type": "stream",
          "text": [
            "\n",
            "Epoch [3] | Train Loss: 2.2746 | Train Acc: 32.41%\n"
          ]
        },
        {
          "metadata": {
            "tags": null
          },
          "name": "stderr",
          "output_type": "stream",
          "text": [
            "\n",
            "Epoch [3] Testing: 100%|██████████| 157/157 [00:20<00:00,  7.65it/s, Acc=37.57%]"
          ]
        },
        {
          "metadata": {
            "tags": null
          },
          "name": "stdout",
          "output_type": "stream",
          "text": [
            "\n",
            "Test Accuracy after Epoch [3]: 37.57%\n"
          ]
        },
        {
          "metadata": {
            "tags": null
          },
          "name": "stderr",
          "output_type": "stream",
          "text": [
            "\n",
            "Epoch [4] Training: 100%|██████████| 782/782 [02:45<00:00,  4.74it/s, Loss=2.1804, Acc=38.00%]"
          ]
        },
        {
          "metadata": {
            "tags": null
          },
          "name": "stdout",
          "output_type": "stream",
          "text": [
            "\n",
            "Epoch [4] | Train Loss: 1.9959 | Train Acc: 38.00%\n"
          ]
        },
        {
          "metadata": {
            "tags": null
          },
          "name": "stderr",
          "output_type": "stream",
          "text": [
            "\n",
            "Epoch [4] Testing: 100%|██████████| 157/157 [00:19<00:00,  8.10it/s, Acc=44.16%]"
          ]
        },
        {
          "metadata": {
            "tags": null
          },
          "name": "stdout",
          "output_type": "stream",
          "text": [
            "\n",
            "Test Accuracy after Epoch [4]: 44.16%\n"
          ]
        },
        {
          "metadata": {
            "tags": null
          },
          "name": "stderr",
          "output_type": "stream",
          "text": [
            "\n",
            "Epoch [5] Training: 100%|██████████| 782/782 [02:44<00:00,  4.75it/s, Loss=1.2654, Acc=42.20%]"
          ]
        },
        {
          "metadata": {
            "tags": null
          },
          "name": "stdout",
          "output_type": "stream",
          "text": [
            "\n",
            "Epoch [5] | Train Loss: 1.7781 | Train Acc: 42.20%\n"
          ]
        },
        {
          "metadata": {
            "tags": null
          },
          "name": "stderr",
          "output_type": "stream",
          "text": [
            "\n",
            "Epoch [5] Testing: 100%|██████████| 157/157 [00:21<00:00,  7.43it/s, Acc=46.09%]"
          ]
        },
        {
          "metadata": {
            "tags": null
          },
          "name": "stdout",
          "output_type": "stream",
          "text": [
            "\n",
            "Test Accuracy after Epoch [5]: 46.09%\n"
          ]
        },
        {
          "metadata": {
            "tags": null
          },
          "name": "stderr",
          "output_type": "stream",
          "text": [
            "\n",
            "Epoch [6] Training: 100%|██████████| 782/782 [02:44<00:00,  4.76it/s, Loss=1.9741, Acc=46.72%]"
          ]
        },
        {
          "metadata": {
            "tags": null
          },
          "name": "stdout",
          "output_type": "stream",
          "text": [
            "\n",
            "Epoch [6] | Train Loss: 1.5706 | Train Acc: 46.72%\n"
          ]
        },
        {
          "metadata": {
            "tags": null
          },
          "name": "stderr",
          "output_type": "stream",
          "text": [
            "\n",
            "Epoch [6] Testing: 100%|██████████| 157/157 [00:19<00:00,  7.95it/s, Acc=51.52%]"
          ]
        },
        {
          "metadata": {
            "tags": null
          },
          "name": "stdout",
          "output_type": "stream",
          "text": [
            "\n",
            "Test Accuracy after Epoch [6]: 51.52%\n"
          ]
        },
        {
          "metadata": {
            "tags": null
          },
          "name": "stderr",
          "output_type": "stream",
          "text": [
            "\n",
            "Epoch [7] Training: 100%|██████████| 782/782 [02:45<00:00,  4.72it/s, Loss=2.5008, Acc=51.28%]"
          ]
        },
        {
          "metadata": {
            "tags": null
          },
          "name": "stdout",
          "output_type": "stream",
          "text": [
            "\n",
            "Epoch [7] | Train Loss: 1.4146 | Train Acc: 51.28%\n"
          ]
        },
        {
          "metadata": {
            "tags": null
          },
          "name": "stderr",
          "output_type": "stream",
          "text": [
            "\n",
            "Epoch [7] Testing: 100%|██████████| 157/157 [00:20<00:00,  7.61it/s, Acc=52.54%]"
          ]
        },
        {
          "metadata": {
            "tags": null
          },
          "name": "stdout",
          "output_type": "stream",
          "text": [
            "\n",
            "Test Accuracy after Epoch [7]: 52.54%\n"
          ]
        },
        {
          "metadata": {
            "tags": null
          },
          "name": "stderr",
          "output_type": "stream",
          "text": [
            "\n",
            "Epoch [8] Training: 100%|██████████| 782/782 [02:45<00:00,  4.74it/s, Loss=2.3324, Acc=55.91%]"
          ]
        },
        {
          "metadata": {
            "tags": null
          },
          "name": "stdout",
          "output_type": "stream",
          "text": [
            "\n",
            "Epoch [8] | Train Loss: 1.2835 | Train Acc: 55.91%\n"
          ]
        },
        {
          "metadata": {
            "tags": null
          },
          "name": "stderr",
          "output_type": "stream",
          "text": [
            "\n",
            "Epoch [8] Testing: 100%|██████████| 157/157 [00:21<00:00,  7.46it/s, Acc=60.61%]"
          ]
        },
        {
          "metadata": {
            "tags": null
          },
          "name": "stdout",
          "output_type": "stream",
          "text": [
            "\n",
            "Test Accuracy after Epoch [8]: 60.61%\n"
          ]
        },
        {
          "metadata": {
            "tags": null
          },
          "name": "stderr",
          "output_type": "stream",
          "text": [
            "\n",
            "Epoch [9] Training: 100%|██████████| 782/782 [02:45<00:00,  4.71it/s, Loss=1.9215, Acc=60.47%]"
          ]
        },
        {
          "metadata": {
            "tags": null
          },
          "name": "stdout",
          "output_type": "stream",
          "text": [
            "\n",
            "Epoch [9] | Train Loss: 1.1348 | Train Acc: 60.47%\n"
          ]
        },
        {
          "metadata": {
            "tags": null
          },
          "name": "stderr",
          "output_type": "stream",
          "text": [
            "\n",
            "Epoch [9] Testing: 100%|██████████| 157/157 [00:20<00:00,  7.78it/s, Acc=64.58%]"
          ]
        },
        {
          "metadata": {
            "tags": null
          },
          "name": "stdout",
          "output_type": "stream",
          "text": [
            "\n",
            "Test Accuracy after Epoch [9]: 64.58%\n"
          ]
        },
        {
          "metadata": {
            "tags": null
          },
          "name": "stderr",
          "output_type": "stream",
          "text": [
            "\n",
            "Epoch [10] Training: 100%|██████████| 782/782 [02:45<00:00,  4.71it/s, Loss=1.0386, Acc=64.29%]"
          ]
        },
        {
          "metadata": {
            "tags": null
          },
          "name": "stdout",
          "output_type": "stream",
          "text": [
            "\n",
            "Epoch [10] | Train Loss: 1.0239 | Train Acc: 64.29%\n"
          ]
        },
        {
          "metadata": {
            "tags": null
          },
          "name": "stderr",
          "output_type": "stream",
          "text": [
            "\n",
            "Epoch [10] Testing: 100%|██████████| 157/157 [00:20<00:00,  7.76it/s, Acc=65.07%]"
          ]
        },
        {
          "metadata": {
            "tags": null
          },
          "name": "stdout",
          "output_type": "stream",
          "text": [
            "\n",
            "Test Accuracy after Epoch [10]: 65.07%\n"
          ]
        },
        {
          "metadata": {
            "tags": null
          },
          "name": "stderr",
          "output_type": "stream",
          "text": [
            "\n",
            "Epoch [11] Training: 100%|██████████| 782/782 [02:45<00:00,  4.73it/s, Loss=0.5894, Acc=67.49%]"
          ]
        },
        {
          "metadata": {
            "tags": null
          },
          "name": "stdout",
          "output_type": "stream",
          "text": [
            "\n",
            "Epoch [11] | Train Loss: 0.9254 | Train Acc: 67.49%\n"
          ]
        },
        {
          "metadata": {
            "tags": null
          },
          "name": "stderr",
          "output_type": "stream",
          "text": [
            "\n",
            "Epoch [11] Testing: 100%|██████████| 157/157 [00:21<00:00,  7.35it/s, Acc=70.14%]"
          ]
        },
        {
          "metadata": {
            "tags": null
          },
          "name": "stdout",
          "output_type": "stream",
          "text": [
            "\n",
            "Test Accuracy after Epoch [11]: 70.14%\n"
          ]
        },
        {
          "metadata": {
            "tags": null
          },
          "name": "stderr",
          "output_type": "stream",
          "text": [
            "\n",
            "Epoch [12] Training: 100%|██████████| 782/782 [02:45<00:00,  4.72it/s, Loss=1.3647, Acc=70.17%]"
          ]
        },
        {
          "metadata": {
            "tags": null
          },
          "name": "stdout",
          "output_type": "stream",
          "text": [
            "\n",
            "Epoch [12] | Train Loss: 0.8520 | Train Acc: 70.17%\n"
          ]
        },
        {
          "metadata": {
            "tags": null
          },
          "name": "stderr",
          "output_type": "stream",
          "text": [
            "\n",
            "Epoch [12] Testing: 100%|██████████| 157/157 [00:20<00:00,  7.63it/s, Acc=71.45%]"
          ]
        },
        {
          "metadata": {
            "tags": null
          },
          "name": "stdout",
          "output_type": "stream",
          "text": [
            "\n",
            "Test Accuracy after Epoch [12]: 71.45%\n"
          ]
        },
        {
          "metadata": {
            "tags": null
          },
          "name": "stderr",
          "output_type": "stream",
          "text": [
            "\n",
            "Epoch [13] Training: 100%|██████████| 782/782 [02:45<00:00,  4.73it/s, Loss=0.7953, Acc=72.76%]"
          ]
        },
        {
          "metadata": {
            "tags": null
          },
          "name": "stdout",
          "output_type": "stream",
          "text": [
            "\n",
            "Epoch [13] | Train Loss: 0.7829 | Train Acc: 72.76%\n"
          ]
        },
        {
          "metadata": {
            "tags": null
          },
          "name": "stderr",
          "output_type": "stream",
          "text": [
            "\n",
            "Epoch [13] Testing: 100%|██████████| 157/157 [00:20<00:00,  7.62it/s, Acc=72.78%]"
          ]
        },
        {
          "metadata": {
            "tags": null
          },
          "name": "stdout",
          "output_type": "stream",
          "text": [
            "\n",
            "Test Accuracy after Epoch [13]: 72.78%\n"
          ]
        },
        {
          "metadata": {
            "tags": null
          },
          "name": "stderr",
          "output_type": "stream",
          "text": [
            "\n",
            "Epoch [14] Training: 100%|██████████| 782/782 [02:45<00:00,  4.71it/s, Loss=0.6963, Acc=74.76%]"
          ]
        },
        {
          "metadata": {
            "tags": null
          },
          "name": "stdout",
          "output_type": "stream",
          "text": [
            "\n",
            "Epoch [14] | Train Loss: 0.7239 | Train Acc: 74.76%\n"
          ]
        },
        {
          "metadata": {
            "tags": null
          },
          "name": "stderr",
          "output_type": "stream",
          "text": [
            "\n",
            "Epoch [14] Testing: 100%|██████████| 157/157 [00:19<00:00,  7.95it/s, Acc=75.53%]"
          ]
        },
        {
          "metadata": {
            "tags": null
          },
          "name": "stdout",
          "output_type": "stream",
          "text": [
            "\n",
            "Test Accuracy after Epoch [14]: 75.53%\n"
          ]
        },
        {
          "metadata": {
            "tags": null
          },
          "name": "stderr",
          "output_type": "stream",
          "text": [
            "\n",
            "Epoch [15] Training: 100%|██████████| 782/782 [02:45<00:00,  4.72it/s, Loss=1.3441, Acc=76.61%]"
          ]
        },
        {
          "metadata": {
            "tags": null
          },
          "name": "stdout",
          "output_type": "stream",
          "text": [
            "\n",
            "Epoch [15] | Train Loss: 0.6716 | Train Acc: 76.61%\n"
          ]
        },
        {
          "metadata": {
            "tags": null
          },
          "name": "stderr",
          "output_type": "stream",
          "text": [
            "\n",
            "Epoch [15] Testing: 100%|██████████| 157/157 [00:19<00:00,  7.87it/s, Acc=75.53%]"
          ]
        },
        {
          "metadata": {
            "tags": null
          },
          "name": "stdout",
          "output_type": "stream",
          "text": [
            "\n",
            "Test Accuracy after Epoch [15]: 75.53%\n"
          ]
        },
        {
          "metadata": {
            "tags": null
          },
          "name": "stderr",
          "output_type": "stream",
          "text": [
            "\n",
            "Epoch [16] Training: 100%|██████████| 782/782 [02:45<00:00,  4.71it/s, Loss=1.4243, Acc=78.08%]"
          ]
        },
        {
          "metadata": {
            "tags": null
          },
          "name": "stdout",
          "output_type": "stream",
          "text": [
            "\n",
            "Epoch [16] | Train Loss: 0.6272 | Train Acc: 78.08%\n"
          ]
        },
        {
          "metadata": {
            "tags": null
          },
          "name": "stderr",
          "output_type": "stream",
          "text": [
            "\n",
            "Epoch [16] Testing: 100%|██████████| 157/157 [00:20<00:00,  7.65it/s, Acc=79.03%]"
          ]
        },
        {
          "metadata": {
            "tags": null
          },
          "name": "stdout",
          "output_type": "stream",
          "text": [
            "\n",
            "Test Accuracy after Epoch [16]: 79.03%\n"
          ]
        },
        {
          "metadata": {
            "tags": null
          },
          "name": "stderr",
          "output_type": "stream",
          "text": [
            "\n",
            "Epoch [17] Training: 100%|██████████| 782/782 [02:45<00:00,  4.72it/s, Loss=0.9490, Acc=79.38%]"
          ]
        },
        {
          "metadata": {
            "tags": null
          },
          "name": "stdout",
          "output_type": "stream",
          "text": [
            "\n",
            "Epoch [17] | Train Loss: 0.5910 | Train Acc: 79.38%\n"
          ]
        },
        {
          "metadata": {
            "tags": null
          },
          "name": "stderr",
          "output_type": "stream",
          "text": [
            "\n",
            "Epoch [17] Testing: 100%|██████████| 157/157 [00:20<00:00,  7.71it/s, Acc=78.09%]"
          ]
        },
        {
          "metadata": {
            "tags": null
          },
          "name": "stdout",
          "output_type": "stream",
          "text": [
            "\n",
            "Test Accuracy after Epoch [17]: 78.09%\n"
          ]
        },
        {
          "metadata": {
            "tags": null
          },
          "name": "stderr",
          "output_type": "stream",
          "text": [
            "\n",
            "Epoch [18] Training: 100%|██████████| 782/782 [02:45<00:00,  4.74it/s, Loss=0.4770, Acc=80.56%]"
          ]
        },
        {
          "metadata": {
            "tags": null
          },
          "name": "stdout",
          "output_type": "stream",
          "text": [
            "\n",
            "Epoch [18] | Train Loss: 0.5581 | Train Acc: 80.56%\n"
          ]
        },
        {
          "metadata": {
            "tags": null
          },
          "name": "stderr",
          "output_type": "stream",
          "text": [
            "\n",
            "Epoch [18] Testing: 100%|██████████| 157/157 [00:19<00:00,  8.12it/s, Acc=79.38%]"
          ]
        },
        {
          "metadata": {
            "tags": null
          },
          "name": "stdout",
          "output_type": "stream",
          "text": [
            "\n",
            "Test Accuracy after Epoch [18]: 79.38%\n"
          ]
        },
        {
          "metadata": {
            "tags": null
          },
          "name": "stderr",
          "output_type": "stream",
          "text": [
            "\n",
            "Epoch [19] Training: 100%|██████████| 782/782 [02:45<00:00,  4.72it/s, Loss=1.2573, Acc=81.71%]"
          ]
        },
        {
          "metadata": {
            "tags": null
          },
          "name": "stdout",
          "output_type": "stream",
          "text": [
            "\n",
            "Epoch [19] | Train Loss: 0.5260 | Train Acc: 81.71%\n"
          ]
        },
        {
          "metadata": {
            "tags": null
          },
          "name": "stderr",
          "output_type": "stream",
          "text": [
            "\n",
            "Epoch [19] Testing: 100%|██████████| 157/157 [00:19<00:00,  7.97it/s, Acc=79.39%]"
          ]
        },
        {
          "metadata": {
            "tags": null
          },
          "name": "stdout",
          "output_type": "stream",
          "text": [
            "\n",
            "Test Accuracy after Epoch [19]: 79.39%\n"
          ]
        },
        {
          "metadata": {
            "tags": null
          },
          "name": "stderr",
          "output_type": "stream",
          "text": [
            "\n",
            "Epoch [20] Training: 100%|██████████| 782/782 [02:45<00:00,  4.73it/s, Loss=1.0465, Acc=82.48%]"
          ]
        },
        {
          "metadata": {
            "tags": null
          },
          "name": "stdout",
          "output_type": "stream",
          "text": [
            "\n",
            "Epoch [20] | Train Loss: 0.5029 | Train Acc: 82.48%\n"
          ]
        },
        {
          "metadata": {
            "tags": null
          },
          "name": "stderr",
          "output_type": "stream",
          "text": [
            "\n",
            "Epoch [20] Testing: 100%|██████████| 157/157 [00:20<00:00,  7.65it/s, Acc=81.30%]"
          ]
        },
        {
          "metadata": {
            "tags": null
          },
          "name": "stdout",
          "output_type": "stream",
          "text": [
            "\n",
            "Test Accuracy after Epoch [20]: 81.30%\n"
          ]
        },
        {
          "output_type": "stream",
          "name": "stderr",
          "text": [
            "\n",
            "Epoch [21] Training: 100%|██████████| 782/782 [02:45<00:00,  4.71it/s, Loss=0.2325, Acc=83.21%]"
          ]
        },
        {
          "output_type": "stream",
          "name": "stdout",
          "text": [
            "\n",
            "Epoch [21] | Train Loss: 0.4807 | Train Acc: 83.21%\n"
          ]
        },
        {
          "output_type": "stream",
          "name": "stderr",
          "text": [
            "\n",
            "Epoch [21] Testing: 100%|██████████| 157/157 [00:20<00:00,  7.51it/s, Acc=81.18%]"
          ]
        },
        {
          "output_type": "stream",
          "name": "stdout",
          "text": [
            "\n",
            "Test Accuracy after Epoch [21]: 81.18%\n"
          ]
        },
        {
          "output_type": "stream",
          "name": "stderr",
          "text": [
            "\n",
            "Epoch [22] Training: 100%|██████████| 782/782 [02:46<00:00,  4.71it/s, Loss=0.3817, Acc=83.98%]"
          ]
        },
        {
          "output_type": "stream",
          "name": "stdout",
          "text": [
            "\n",
            "Epoch [22] | Train Loss: 0.4625 | Train Acc: 83.98%\n"
          ]
        },
        {
          "output_type": "stream",
          "name": "stderr",
          "text": [
            "\n",
            "Epoch [22] Testing: 100%|██████████| 157/157 [00:20<00:00,  7.83it/s, Acc=80.07%]"
          ]
        },
        {
          "output_type": "stream",
          "name": "stdout",
          "text": [
            "\n",
            "Test Accuracy after Epoch [22]: 80.07%\n"
          ]
        },
        {
          "output_type": "stream",
          "name": "stderr",
          "text": [
            "\n",
            "Epoch [23] Training: 100%|██████████| 782/782 [02:45<00:00,  4.72it/s, Loss=0.6013, Acc=84.58%]"
          ]
        },
        {
          "output_type": "stream",
          "name": "stdout",
          "text": [
            "\n",
            "Epoch [23] | Train Loss: 0.4418 | Train Acc: 84.58%\n"
          ]
        },
        {
          "output_type": "stream",
          "name": "stderr",
          "text": [
            "\n",
            "Epoch [23] Testing: 100%|██████████| 157/157 [00:20<00:00,  7.49it/s, Acc=80.13%]"
          ]
        },
        {
          "output_type": "stream",
          "name": "stdout",
          "text": [
            "\n",
            "Test Accuracy after Epoch [23]: 80.13%\n"
          ]
        },
        {
          "output_type": "stream",
          "name": "stderr",
          "text": [
            "\n",
            "Epoch [24] Training: 100%|██████████| 782/782 [02:45<00:00,  4.73it/s, Loss=0.6197, Acc=84.93%]"
          ]
        },
        {
          "output_type": "stream",
          "name": "stdout",
          "text": [
            "\n",
            "Epoch [24] | Train Loss: 0.4286 | Train Acc: 84.93%\n"
          ]
        },
        {
          "output_type": "stream",
          "name": "stderr",
          "text": [
            "\n",
            "Epoch [24] Testing: 100%|██████████| 157/157 [00:20<00:00,  7.54it/s, Acc=82.08%]"
          ]
        },
        {
          "output_type": "stream",
          "name": "stdout",
          "text": [
            "\n",
            "Test Accuracy after Epoch [24]: 82.08%\n"
          ]
        },
        {
          "output_type": "stream",
          "name": "stderr",
          "text": [
            "\n",
            "Epoch [25] Training: 100%|██████████| 782/782 [02:45<00:00,  4.72it/s, Loss=0.4066, Acc=85.43%]"
          ]
        },
        {
          "output_type": "stream",
          "name": "stdout",
          "text": [
            "\n",
            "Epoch [25] | Train Loss: 0.4220 | Train Acc: 85.43%\n"
          ]
        },
        {
          "output_type": "stream",
          "name": "stderr",
          "text": [
            "\n",
            "Epoch [25] Testing: 100%|██████████| 157/157 [00:20<00:00,  7.60it/s, Acc=81.64%]"
          ]
        },
        {
          "output_type": "stream",
          "name": "stdout",
          "text": [
            "\n",
            "Test Accuracy after Epoch [25]: 81.64%\n"
          ]
        },
        {
          "output_type": "stream",
          "name": "stderr",
          "text": [
            "\n",
            "Epoch [26] Training: 100%|██████████| 782/782 [02:46<00:00,  4.70it/s, Loss=1.0165, Acc=85.84%]"
          ]
        },
        {
          "output_type": "stream",
          "name": "stdout",
          "text": [
            "\n",
            "Epoch [26] | Train Loss: 0.4038 | Train Acc: 85.84%\n"
          ]
        },
        {
          "output_type": "stream",
          "name": "stderr",
          "text": [
            "\n",
            "Epoch [26] Testing: 100%|██████████| 157/157 [00:20<00:00,  7.56it/s, Acc=82.94%]"
          ]
        },
        {
          "output_type": "stream",
          "name": "stdout",
          "text": [
            "\n",
            "Test Accuracy after Epoch [26]: 82.94%\n"
          ]
        },
        {
          "output_type": "stream",
          "name": "stderr",
          "text": [
            "\n",
            "Epoch [27] Training: 100%|██████████| 782/782 [02:45<00:00,  4.72it/s, Loss=0.7118, Acc=86.11%]"
          ]
        },
        {
          "output_type": "stream",
          "name": "stdout",
          "text": [
            "\n",
            "Epoch [27] | Train Loss: 0.3981 | Train Acc: 86.11%\n"
          ]
        },
        {
          "output_type": "stream",
          "name": "stderr",
          "text": [
            "\n",
            "Epoch [27] Testing: 100%|██████████| 157/157 [00:20<00:00,  7.62it/s, Acc=82.94%]\n"
          ]
        },
        {
          "output_type": "stream",
          "name": "stdout",
          "text": [
            "\n",
            "Test Accuracy after Epoch [27]: 82.94%\n"
          ]
        },
        {
          "output_type": "stream",
          "name": "stderr",
          "text": [
            "Epoch [28] Training: 100%|██████████| 782/782 [02:45<00:00,  4.72it/s, Loss=1.0950, Acc=86.26%]"
          ]
        },
        {
          "output_type": "stream",
          "name": "stdout",
          "text": [
            "\n",
            "Epoch [28] | Train Loss: 0.3920 | Train Acc: 86.26%\n"
          ]
        },
        {
          "output_type": "stream",
          "name": "stderr",
          "text": [
            "\n",
            "Epoch [28] Testing: 100%|██████████| 157/157 [00:19<00:00,  7.89it/s, Acc=82.28%]"
          ]
        },
        {
          "output_type": "stream",
          "name": "stdout",
          "text": [
            "\n",
            "Test Accuracy after Epoch [28]: 82.28%\n"
          ]
        },
        {
          "output_type": "stream",
          "name": "stderr",
          "text": [
            "\n",
            "Epoch [29] Training: 100%|██████████| 782/782 [02:46<00:00,  4.71it/s, Loss=0.5740, Acc=86.42%]"
          ]
        },
        {
          "output_type": "stream",
          "name": "stdout",
          "text": [
            "\n",
            "Epoch [29] | Train Loss: 0.3899 | Train Acc: 86.42%\n"
          ]
        },
        {
          "output_type": "stream",
          "name": "stderr",
          "text": [
            "\n",
            "Epoch [29] Testing: 100%|██████████| 157/157 [00:20<00:00,  7.72it/s, Acc=79.89%]"
          ]
        },
        {
          "output_type": "stream",
          "name": "stdout",
          "text": [
            "\n",
            "Test Accuracy after Epoch [29]: 79.89%\n"
          ]
        },
        {
          "output_type": "stream",
          "name": "stderr",
          "text": [
            "\n",
            "Epoch [30] Training: 100%|██████████| 782/782 [02:45<00:00,  4.73it/s, Loss=1.0443, Acc=86.30%]"
          ]
        },
        {
          "output_type": "stream",
          "name": "stdout",
          "text": [
            "\n",
            "Epoch [30] | Train Loss: 0.3912 | Train Acc: 86.30%\n"
          ]
        },
        {
          "output_type": "stream",
          "name": "stderr",
          "text": [
            "\n",
            "Epoch [30] Testing: 100%|██████████| 157/157 [00:21<00:00,  7.26it/s, Acc=82.28%]\n"
          ]
        },
        {
          "output_type": "stream",
          "name": "stdout",
          "text": [
            "\n",
            "Test Accuracy after Epoch [30]: 82.28%\n",
            "\n",
            "Classification Report:\n",
            "\n",
            "              precision    recall  f1-score   support\n",
            "\n",
            "    airplane       0.83      0.79      0.81      1000\n",
            "  automobile       0.93      0.92      0.92      1000\n",
            "        bird       0.81      0.74      0.77      1000\n",
            "         cat       0.67      0.69      0.68      1000\n",
            "        deer       0.83      0.77      0.80      1000\n",
            "         dog       0.74      0.73      0.74      1000\n",
            "        frog       0.87      0.88      0.88      1000\n",
            "       horse       0.82      0.90      0.86      1000\n",
            "        ship       0.85      0.91      0.88      1000\n",
            "       truck       0.87      0.90      0.89      1000\n",
            "\n",
            "    accuracy                           0.82     10000\n",
            "   macro avg       0.82      0.82      0.82     10000\n",
            "weighted avg       0.82      0.82      0.82     10000\n",
            "\n",
            "\n",
            "Confusion Matrix:\n",
            "\n",
            "[[787  14  29  18  11   5   6  14  73  43]\n",
            " [  7 917   1   3   2   1   0   2  20  47]\n",
            " [ 53   1 739  44  43  42  35  25  12   6]\n",
            " [  9   5  38 695  41 116  42  34  13   7]\n",
            " [ 15   2  43  47 766  38  24  56   8   1]\n",
            " [  6   2  24 143  23 735  13  43   5   6]\n",
            " [  5   2  21  45  14  15 877   7  10   4]\n",
            " [  4   0  11  27  18  36   1 896   1   6]\n",
            " [ 44   8   5   8   1   1   2   2 914  15]\n",
            " [ 13  39   3  10   1   1   3  11  17 902]]\n",
            "Model saved as efficientnetb0_cifar10.pth\n"
          ]
        },
        {
          "output_type": "display_data",
          "data": {
            "text/plain": [
              "<Figure size 1200x500 with 2 Axes>"
            ],
            "image/png": "[encoded data removed]"
          },
          "metadata": {}
        }
      ],
      "source": [
        "\n",
        "\n",
        "def train_one_epoch(epoch):\n",
        "    model.train()\n",
        "    running_loss, correct, total = 0, 0, 0\n",
        "    loop = tqdm(enumerate(train_loader), total=len(train_loader), desc=f\"Epoch [{epoch}] Training\")\n",
        "    for batch_idx, (images, labels) in loop:\n",
        "        images, labels = images.to(device), labels.to(device)\n",
        "        optimizer.zero_grad()\n",
        "        with autocast():\n",
        "            outputs = model(images)\n",
        "            loss = criterion(outputs, labels)\n",
        "        scaler.scale(loss).backward()\n",
        "        scaler.step(optimizer)\n",
        "        scaler.update()\n",
        "        running_loss += loss.item()\n",
        "        _, preds = outputs.max(1)\n",
        "        total += labels.size(0)\n",
        "        correct += preds.eq(labels).sum().item()\n",
        "        loop.set_postfix({\"Loss\": f\"{loss.item():.4f}\", \"Acc\": f\"{100.*correct/total:.2f}%\"})\n",
        "    avg_loss = running_loss / len(train_loader)\n",
        "    acc = 100.*correct/total\n",
        "    train_losses.append(avg_loss)\n",
        "    print(f\"\\nEpoch [{epoch}] | Train Loss: {avg_loss:.4f} | Train Acc: {acc:.2f}%\")\n",
        "\n",
        "def evaluate(epoch):\n",
        "    model.eval()\n",
        "    correct, total = 0, 0\n",
        "    all_preds, all_labels = [], []\n",
        "    loop = tqdm(enumerate(test_loader), total=len(test_loader), desc=f\"Epoch [{epoch}] Testing\")\n",
        "    with torch.no_grad():\n",
        "        for batch_idx, (images, labels) in loop:\n",
        "            images, labels = images.to(device), labels.to(device)\n",
        "            outputs = model(images)\n",
        "            _, preds = outputs.max(1)\n",
        "            total += labels.size(0)\n",
        "            correct += preds.eq(labels).sum().item()\n",
        "            all_preds.extend(preds.cpu().numpy())\n",
        "            all_labels.extend(labels.cpu().numpy())\n",
        "            loop.set_postfix({\"Acc\": f\"{100.*correct/total:.2f}%\"})\n",
        "    acc = 100.*correct/total\n",
        "    test_accuracies.append(acc)\n",
        "    print(f\"\\nTest Accuracy after Epoch [{epoch}]: {acc:.2f}%\")\n",
        "    return all_labels, all_preds\n",
        "\n",
        "\n",
        "for epoch in range(1, num_epochs+1):\n",
        "    train_one_epoch(epoch)\n",
        "    labels, preds = evaluate(epoch)\n",
        "    scheduler.step()\n",
        "\n",
        "print(\"\\nClassification Report:\\n\")\n",
        "print(classification_report(labels, preds, target_names=trainset.classes))\n",
        "print(\"\\nConfusion Matrix:\\n\")\n",
        "print(confusion_matrix(labels, preds))\n",
        "\n",
        "torch.save(model.state_dict(), \"efficientnetb0_cifar10.pth\")\n",
        "print(\"Model saved as efficientnetb0_cifar10.pth\")\n",
        "\n",
        "plt.figure(figsize=(12,5))\n",
        "plt.subplot(1,2,1)\n",
        "plt.plot(train_losses, label=\"Train Loss\")\n",
        "plt.xlabel(\"Epoch\")\n",
        "plt.ylabel(\"Loss\")\n",
        "plt.title(\"Training Loss\")\n",
        "plt.legend()\n",
        "plt.subplot(1,2,2)\n",
        "plt.plot(test_accuracies, label=\"Test Accuracy\")\n",
        "plt.xlabel(\"Epoch\")\n",
        "plt.ylabel(\"Accuracy (%)\")\n",
        "plt.title(\"Test Accuracy\")\n",
        "plt.legend()\n",
        "plt.show()"
      ]
    }
  ]
}